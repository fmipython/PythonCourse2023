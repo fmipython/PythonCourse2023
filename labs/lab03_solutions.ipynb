{
 "cells": [
  {
   "cell_type": "markdown",
   "metadata": {},
   "source": [
    "# **Примерни решения** на задачите по тема 5"
   ]
  },
  {
   "cell_type": "markdown",
   "metadata": {},
   "source": [
    "**Важно** Решенията трябва да бъдат в Python стип. Това означава използване на функционалности на езика - list comprehension, generators, etc. \n",
    "Ако решението ви е по-дълго от 10-тина реда, вероятно не е в Питонски стил. Ще бъдат отнемани точки за стил.\n",
    "\n",
    "За да се зачете задачата ви, трябва да минават всички тестове в LeetCode.\n"
   ]
  },
  {
   "cell_type": "markdown",
   "metadata": {},
   "source": [
    "## Задача 1 (1т)\n",
    "[Линк](https://leetcode.com/problems/plus-one/)"
   ]
  },
  {
   "cell_type": "code",
   "execution_count": null,
   "metadata": {},
   "outputs": [],
   "source": [
    "class Solution:\n",
    "    def plusOne(self, digits: list[int]) -> list[int]:\n",
    "        digits = [str(digit) for digit in digits]\n",
    "        return [int(digit) for digit in str(int(''.join(digits)) + 1)]"
   ]
  },
  {
   "cell_type": "markdown",
   "metadata": {},
   "source": [
    "## Задача 2 (1т)\n",
    "[Линк](https://leetcode.com/problems/valid-anagram/)"
   ]
  },
  {
   "cell_type": "code",
   "execution_count": 1,
   "metadata": {},
   "outputs": [],
   "source": [
    "from collections import Counter\n",
    "class Solution:\n",
    "    def isAnagram(self, s: str, t: str) -> bool:\n",
    "        s_count = Counter(s)\n",
    "        t_count = Counter(t)\n",
    "\n",
    "        return s_count == t_count"
   ]
  },
  {
   "cell_type": "markdown",
   "metadata": {},
   "source": [
    "## Задача 3 (1т)\n",
    "[Линк](https://leetcode.com/problems/sort-array-by-parity/)"
   ]
  },
  {
   "cell_type": "code",
   "execution_count": 3,
   "metadata": {},
   "outputs": [],
   "source": [
    "from collections import deque\n",
    "class Solution:\n",
    "    def sortArrayByParity(self, nums: list[int]) -> list[int]:\n",
    "        deque = Deque()\n",
    "\n",
    "        for num in nums:\n",
    "            if num % 2 == 0:\n",
    "                deque.appendleft(num)\n",
    "            else:\n",
    "                deque.append(num)\n",
    "\n",
    "        return list(deque)"
   ]
  },
  {
   "cell_type": "markdown",
   "metadata": {},
   "source": [
    "## Задача 4 (1.5т)\n",
    "[Линк](https://leetcode.com/problems/keyboard-row/)"
   ]
  },
  {
   "cell_type": "code",
   "execution_count": null,
   "metadata": {},
   "outputs": [],
   "source": [
    "class Solution:\n",
    "    def is_word_single_row(self, word: str) -> bool:\n",
    "        first_row = set(\"qwertyuiop\")\n",
    "        second_row = set(\"asdfghjkl\")\n",
    "        third_row = set(\"zxcvbnm\")\n",
    "\n",
    "        word = word.lower()\n",
    "\n",
    "        return any([(set(word) & row) == set(word) for row in [first_row, second_row, third_row]])\n",
    "\n",
    "    def findWords(self, words: list[str]) -> list[str]:\n",
    "        return [word for word in words if self.is_word_single_row(word)]"
   ]
  },
  {
   "cell_type": "markdown",
   "metadata": {},
   "source": [
    "## Задача 5 (1.5т)\n",
    "[Линк](https://leetcode.com/problems/rank-transform-of-an-array/)"
   ]
  },
  {
   "cell_type": "code",
   "execution_count": null,
   "metadata": {},
   "outputs": [],
   "source": [
    "class Solution:\n",
    "    def arrayRankTransform(self, arr: list[int]) -> list[int]:\n",
    "        unique_items = list(set(arr))\n",
    "        unique_sorted = sorted(unique_items)\n",
    "        \n",
    "        rank = {item: i+1 for i, item in enumerate(unique_sorted)}\n",
    "\n",
    "        return [rank[item] for item in arr]\n"
   ]
  }
 ],
 "metadata": {
  "kernelspec": {
   "display_name": ".venv",
   "language": "python",
   "name": "python3"
  },
  "language_info": {
   "codemirror_mode": {
    "name": "ipython",
    "version": 3
   },
   "file_extension": ".py",
   "mimetype": "text/x-python",
   "name": "python",
   "nbconvert_exporter": "python",
   "pygments_lexer": "ipython3",
   "version": "3.10.12"
  },
  "orig_nbformat": 4
 },
 "nbformat": 4,
 "nbformat_minor": 2
}
