{
 "cells": [
  {
   "cell_type": "markdown",
   "metadata": {},
   "source": [
    "## Задача X"
   ]
  },
  {
   "cell_type": "markdown",
   "metadata": {},
   "source": [
    "Напишете клас `SimpleBackup`, който да реализира следните функционалности:\n",
    "\n",
    "- Създаване на копие на данни по подаден списък с файлове за копиране (`create`). Създаваме копие на всички файлове, но не и на самите директории.\n",
    "- Възстановяване на копие на данни по подадено име на копие и локация, където да се възстанови (`restore`)\n",
    "- Връщане на сортиран списък с всички копия на данни, които са направени (`show`)\n",
    "- Изтриване на копие на данни по подадено име на копие (`delete`)\n",
    "\n",
    "Име на копие дефинираме по следния начин: `backup_<timestamp>`, където `<timestamp>` е времето на създаване на копието във формат `YYYYMMDD_HHMMSS`.\n",
    "(За форматирането на датата и часа може да използвате `strftime` от модула `time`.)\n",
    "\n",
    "Списъка с файлове за копиране е в следния формат - на всеки ред е описан един файл с релативния му път.\n",
    "Важно: пътищата на файловете са разделени с интервал, а не с `/`.\n",
    "\n",
    "Копията трябва да се съхраняват в директорията `backups`, като всяко копие е в отделна директория.\n",
    "\n",
    "Методите `create`, `restore`, `show` и `delete` на копие трябва да връщат `True` ако операцията е била успешна, и `False` в противен случай."
   ]
  },
  {
   "cell_type": "markdown",
   "metadata": {},
   "source": [
    "В директорията `task_x` се намира `backups` (където трябва да бъдат създавани вашите копия), списъците с файлове за копиране - `backup_1.txt`, `backup_2.txt` и т.н., и директорията `sample_files`, в която се намират тестовите файлове, на които ще правим копия."
   ]
  },
  {
   "cell_type": "markdown",
   "metadata": {},
   "source": [
    "**Бележки:**\n",
    "\n",
    "Изпълнявайте тетрадката/кода ви в директорията `labs`, за да може да работите с релативни пътища.\n",
    "\n",
    "Независимо от структурата на входните ви данни, съдържанието на резервните копия трябва да е на едно ниво - т.е всички файлове за дадено копие трябва да се намират в една директория."
   ]
  },
  {
   "cell_type": "code",
   "execution_count": 11,
   "metadata": {},
   "outputs": [],
   "source": [
    "# Write your code here:"
   ]
  },
  {
   "cell_type": "code",
   "execution_count": 2,
   "metadata": {},
   "outputs": [],
   "source": [
    "import os\n",
    "def get_folder_content(backup_dir: str) -> list[str]:\n",
    "    result = []\n",
    "\n",
    "    for content in os.listdir(backup_dir):\n",
    "        with open(os.path.join(backup_dir, content), 'r') as f:\n",
    "            result.append(f.read().strip())\n",
    "\n",
    "    return result"
   ]
  },
  {
   "cell_type": "code",
   "execution_count": 13,
   "metadata": {},
   "outputs": [
    {
     "name": "stdout",
     "output_type": "stream",
     "text": [
      "[Errno 2] No such file or directory: 'lab04_files/task_x/backup_5.txt'\n"
     ]
    },
    {
     "data": {
      "text/plain": [
       "'✅ All OK! +Y points'"
      ]
     },
     "execution_count": 13,
     "metadata": {},
     "output_type": "execute_result"
    }
   ],
   "source": [
    "import time\n",
    "import shutil\n",
    "\n",
    "backups = SimpleBackup()\n",
    "\n",
    "\n",
    "# Arrange \n",
    "default_listing = backups.show()\n",
    "\n",
    "# Act \n",
    "backup1_result = backups.create(os.path.join('lab04_files', 'task_x', 'backup_1.txt'))\n",
    "time.sleep(1)  # to ensure that the backups will have a different timestamp\n",
    "backup2_result = backups.create(os.path.join('lab04_files', 'task_x', 'backup_2.txt'))\n",
    "\n",
    "listing1_result = backups.show()\n",
    "\n",
    "backup1_path = listing1_result[-2]\n",
    "backup2_path = listing1_result[-1]\n",
    "\n",
    "backup1_content = get_folder_content(os.path.join('lab04_files', 'task_x', 'backups', backup1_path))\n",
    "backup2_content = get_folder_content(os.path.join('lab04_files', 'task_x', 'backups', backup2_path))\n",
    "\n",
    "time.sleep(1)  # to ensure that the backups will have a different timestamp\n",
    "\n",
    "backup3_result = backups.create(os.path.join('lab04_files', 'task_x', 'backup_3.txt'))\n",
    "time.sleep(1)  # to ensure that the backups will have a different timestamp\n",
    "\n",
    "backup4_result = backups.create(os.path.join('lab04_files', 'task_x', 'backup_4.txt'))\n",
    "time.sleep(1)  # to ensure that the backups will have a different timestamp\n",
    "\n",
    "backup5_result = backups.create(os.path.join('lab04_files', 'task_x', 'backup_5.txt'))\n",
    "time.sleep(1)  # to ensure that the backups will have a different timestamp\n",
    "\n",
    "listing2_result = backups.show()\n",
    "\n",
    "backup3_path = listing2_result[-2]\n",
    "backup4_path = listing2_result[-1]\n",
    "\n",
    "backup3_content = get_folder_content(os.path.join('lab04_files', 'task_x', 'backups', backup3_path))\n",
    "backup4_content = get_folder_content(os.path.join('lab04_files', 'task_x', 'backups', backup4_path))\n",
    "\n",
    "backup6_result = backups.create(os.path.join('lab04_files', 'task_x', 'backup_4.txt'))\n",
    "listing3_result = sorted(backups.show())\n",
    "time.sleep(1)  # to ensure that the backups will have a different timestamp\n",
    "\n",
    "removal1_result = backups.delete(listing3_result[-1])\n",
    "listing4_result = backups.show()\n",
    "\n",
    "\n",
    "restore_results = []\n",
    "restore_paths = [os.path.join('lab04_files', 'task_x', f'restored_{i}') for i in range(1, 5)]\n",
    "backups_to_restore = listing4_result[-4:]\n",
    "restore_contents = []\n",
    "\n",
    "for backup_to_restore, restore_path in zip(backups_to_restore, restore_paths):\n",
    "    os.makedirs(restore_path)\n",
    "    restore_results.append(backups.restore(backup_to_restore, restore_path))\n",
    "    restore_contents.append(get_folder_content(restore_path))\n",
    "    shutil.rmtree(restore_path)\n",
    "\n",
    "restore5_result = backups.restore('backup_20231225_144719', restore_paths[0])\n",
    "restore6_result = backups.restore('asd', restore_paths[0])\n",
    "\n",
    "for backup in backups.show():\n",
    "    backups.delete(backup)\n",
    "\n",
    "listing5_result = backups.show()\n",
    "\n",
    "# Tests\n",
    "\n",
    "# Create\n",
    "assert backup1_result == True\n",
    "assert backup2_result == True\n",
    "assert backup3_result == True\n",
    "assert backup4_result == True\n",
    "assert backup5_result == False, 'Config file for backup_5 does not exist'\n",
    "\n",
    "assert set(backup1_content) == set(['123'])\n",
    "assert set(backup2_content) == set(['456'])\n",
    "assert set(backup3_content) == set(['456', '4567'])\n",
    "assert set(backup4_content) == set(['123', '456', 'Атака, чичо !', '4567'])\n",
    "\n",
    "# Show\n",
    "assert len(listing1_result) == len(default_listing) + 2\n",
    "assert len(listing2_result) == len(default_listing) + 4\n",
    "assert len(listing3_result) == len(default_listing) + 5\n",
    "assert len(listing4_result) == len(default_listing) + 4\n",
    "assert len(listing5_result) == len(default_listing)\n",
    "assert listing5_result == default_listing\n",
    "\n",
    "# Restore\n",
    "assert restore_results[0] == True\n",
    "assert restore_results[1] == True\n",
    "assert restore_results[2] == True\n",
    "assert restore_results[3] == True\n",
    "assert restore5_result == False, 'Restore of non-existing backup should fail'\n",
    "assert restore6_result == False, 'Restore of backup with invalid name should fail'\n",
    "\n",
    "\n",
    "assert set(restore_contents[0]) == set(['123'])\n",
    "assert set(restore_contents[1]) == set(['456'])\n",
    "assert set(restore_contents[2]) == set(['456', '4567'])\n",
    "assert set(restore_contents[3]) == set(['123', '456', 'Атака, чичо !', '4567'])\n",
    "\n",
    "# Delete\n",
    "for backup in listing3_result:\n",
    "    assert os.path.exists(os.path.join('lab04_files', 'task_x', 'backups', backup)) == False\n",
    "\n",
    "\n",
    "\"✅ All OK! +Y points\""
   ]
  }
 ],
 "metadata": {
  "kernelspec": {
   "display_name": ".venv",
   "language": "python",
   "name": "python3"
  },
  "language_info": {
   "codemirror_mode": {
    "name": "ipython",
    "version": 3
   },
   "file_extension": ".py",
   "mimetype": "text/x-python",
   "name": "python",
   "nbconvert_exporter": "python",
   "pygments_lexer": "ipython3",
   "version": "3.10.12"
  },
  "orig_nbformat": 4
 },
 "nbformat": 4,
 "nbformat_minor": 2
}
